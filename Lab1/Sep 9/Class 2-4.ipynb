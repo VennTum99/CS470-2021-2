{
 "cells": [
  {
   "cell_type": "markdown",
   "source": [
    "# CS470 Introduction to Artificial Intelligence\r\n",
    "## Deep Learning Practice \r\n",
    "#### TA. Minho Sim\r\n",
    "\r\n",
    "\r\n",
    "---"
   ],
   "metadata": {}
  },
  {
   "cell_type": "markdown",
   "source": [
    "## 2-4. Save and restore models\n",
    "\n",
    "#### Topics for this chapter\n",
    " * Saving weights during training\n",
    " * Restoring the saved model\n",
    " * Saving manually\n",
    " * Saving/loading the entire model\n",
    " ---\n",
    "\n",
    "Model progress can be saved during—and after—training. This means that a model can resume where it ended the training and resume at that point. Saving also means you can share your model and others can recreate or reproduce your work. When publishing research models and ML techniques, most machine learning practitioners share:\n",
    "- code to create the model\n",
    "- the trained weights, or parameters, for the model\n",
    "\n",
    "Sharing these data helps others understand how the model works and try it themselves with new or original data."
   ],
   "metadata": {}
  },
  {
   "cell_type": "markdown",
   "source": [
    "#### Setup\n",
    "\n",
    "Install and import TensorFlow and dependencies:"
   ],
   "metadata": {}
  },
  {
   "cell_type": "code",
   "execution_count": null,
   "source": [
    "try:\r\n",
    "  # %tensorflow_version only exists in Colab.\r\n",
    "  %tensorflow_version 2.x\r\n",
    "except Exception:\r\n",
    "    pass\r\n",
    "\r\n",
    "!pip install -q pyyaml h5py  # Required to save models in HDF5 format"
   ],
   "outputs": [],
   "metadata": {}
  },
  {
   "cell_type": "code",
   "execution_count": null,
   "source": [
    "from __future__ import absolute_import, division, print_function, unicode_literals\r\n",
    "\r\n",
    "import os\r\n",
    "\r\n",
    "import tensorflow as tf\r\n",
    "from tensorflow import keras\r\n",
    "\r\n",
    "print(tf.version.VERSION)"
   ],
   "outputs": [],
   "metadata": {}
  },
  {
   "cell_type": "markdown",
   "source": [
    "#### Get an example dataset\n",
    "\n",
    "To demonstrate how to save and load weights, you'll use the MNIST dataset. To speed up these runs, we will use only the first 1000 examples:"
   ],
   "metadata": {}
  },
  {
   "cell_type": "code",
   "execution_count": 3,
   "source": [
    "(train_images, train_labels), (test_images, test_labels) = tf.keras.datasets.mnist.load_data()\r\n",
    "\r\n",
    "train_labels = train_labels[:1000]\r\n",
    "test_labels = test_labels[:1000]\r\n",
    "\r\n",
    "train_images = train_images[:1000].reshape(-1, 28 * 28) / 255.0\r\n",
    "test_images = test_images[:1000].reshape(-1, 28 * 28) / 255.0"
   ],
   "outputs": [],
   "metadata": {}
  },
  {
   "cell_type": "markdown",
   "source": [
    "#### Define model \n",
    "Start by building a simple sequential model:"
   ],
   "metadata": {}
  },
  {
   "cell_type": "code",
   "execution_count": null,
   "source": [
    "# Define a simple sequential model\r\n",
    "def create_model():\r\n",
    "    model = tf.keras.models.Sequential([\r\n",
    "        keras.layers.Dense(512, activation='relu', input_shape=(784,)),\r\n",
    "        keras.layers.Dropout(0.2),\r\n",
    "        keras.layers.Dense(10, activation='softmax')\r\n",
    "      ])\r\n",
    "    \r\n",
    "    model.compile(optimizer='adam',\r\n",
    "                loss='sparse_categorical_crossentropy',\r\n",
    "                metrics=['accuracy'])\r\n",
    "    \r\n",
    "    return model\r\n",
    "\r\n",
    "# Create a basic model instance\r\n",
    "model = create_model()\r\n",
    "\r\n",
    "# Display the model's architecture\r\n",
    "model.summary()"
   ],
   "outputs": [],
   "metadata": {}
  },
  {
   "cell_type": "markdown",
   "source": [
    "#### Save checkpoints during training (Save weights only)\n",
    "\n",
    "When you have a _trained model_, you don't have to retrain it from the scratch. You can just pick-up training where you left off—in case the training process was interrupted. The callback function in [`tf.keras.callbacks.ModelCheckpoint`](https://www.tensorflow.org/versions/r2.0/api_docs/python/tf/keras/callbacks/ModelCheckpoint)  allows us to continually save the model during and at the end of training.\n",
    "\n",
    "#### Checkpoint callback usage\n",
    "Create a tf.keras.callbacks.ModelCheckpoint callback that **_saves weights only_** during training:"
   ],
   "metadata": {}
  },
  {
   "cell_type": "code",
   "execution_count": 5,
   "source": [
    "import os\r\n",
    "\r\n",
    "ckpt_path_for_t1 = \"checkpoints/training_1/cp.ckpt\"\r\n",
    "ckpt_dir_for_t1 = os.path.dirname(ckpt_path_for_t1)\r\n",
    "\r\n",
    "# Create a callback that saves the model's weights\r\n",
    "cp_callback = tf.keras.callbacks.ModelCheckpoint(filepath=ckpt_path_for_t1,\r\n",
    "                                                 save_weights_only=True,\r\n",
    "                                                 save_best_only=True)"
   ],
   "outputs": [],
   "metadata": {}
  },
  {
   "cell_type": "code",
   "execution_count": null,
   "source": [
    "# Train the model with the new callback\r\n",
    "model.fit(train_images, \r\n",
    "          train_labels,  \r\n",
    "          epochs=10,\r\n",
    "          validation_data=(test_images,test_labels),\r\n",
    "          callbacks=[cp_callback])  # Pass callback to training"
   ],
   "outputs": [],
   "metadata": {}
  },
  {
   "cell_type": "markdown",
   "source": [
    "This creates a single collection of TensorFlow checkpoint files that are updated at the end of each epoch:"
   ],
   "metadata": {}
  },
  {
   "cell_type": "code",
   "execution_count": 7,
   "source": [
    "!ls {ckpt_dir_for_t1}"
   ],
   "outputs": [
    {
     "output_type": "stream",
     "name": "stdout",
     "text": [
      "checkpoint  cp.ckpt.data-00000-of-00001  cp.ckpt.index\n"
     ]
    }
   ],
   "metadata": {}
  },
  {
   "cell_type": "markdown",
   "source": [
    "#### Restore to the untrained model\n",
    "\n",
    "Now let's rebuild a fresh and untrained model by calling `create_model()`. We can evaluate it on the test set in order to check that it is not trained. An untrained model will have very low accuracy (< 10%)."
   ],
   "metadata": {}
  },
  {
   "cell_type": "code",
   "execution_count": null,
   "source": [
    "# Create a basic model instance\r\n",
    "new_model = create_model()\r\n",
    "\r\n",
    "# Evaluate the model\r\n",
    "loss, acc = new_model.evaluate(test_images, test_labels, verbose=2)\r\n",
    "print(\"Untrained model, accuracy: {:5.2f}%\".format(100*acc))"
   ],
   "outputs": [],
   "metadata": {}
  },
  {
   "cell_type": "markdown",
   "source": [
    "In this time, let's load the weights from the checkpoint and re-evaluate the test dataset. We can load the weights using `load_weights()`. Since they have the same model architecture, we can share weights despite that it's a different instance of the model."
   ],
   "metadata": {}
  },
  {
   "cell_type": "code",
   "execution_count": null,
   "source": [
    "# Loads the weights\r\n",
    "new_model.load_weights(ckpt_path_for_t1)\r\n",
    "\r\n",
    "# Re-evaluate the model\r\n",
    "loss,acc = new_model.evaluate(test_images, test_labels, verbose=2)\r\n",
    "print(\"Restored model, accuracy: {:5.2f}%\".format(100*acc))"
   ],
   "outputs": [],
   "metadata": {}
  },
  {
   "cell_type": "markdown",
   "source": [
    "<br/>\n",
    "\n",
    "#### Requirement for load weights\n",
    "\n",
    "When restoring a model from weights-only, we must have a model with the **same architecture as the original model**. When we restore weights to the model with different architecture, an error occurs."
   ],
   "metadata": {}
  },
  {
   "cell_type": "code",
   "execution_count": null,
   "source": [
    "# Define a different sequential model\r\n",
    "def different_model():\r\n",
    "    model = tf.keras.models.Sequential([\r\n",
    "        keras.layers.Dense(100, activation='relu', input_shape=(784,)),\r\n",
    "        keras.layers.Dense(10, activation='softmax')\r\n",
    "      ])\r\n",
    "    \r\n",
    "    model.compile(optimizer='adam',\r\n",
    "                loss='sparse_categorical_crossentropy',\r\n",
    "                metrics=['accuracy'])\r\n",
    "    \r\n",
    "    return model\r\n",
    "\r\n",
    "different_model = different_model()\r\n",
    "\r\n",
    "different_model.load_weights(ckpt_path_for_t1)"
   ],
   "outputs": [],
   "metadata": {}
  },
  {
   "cell_type": "markdown",
   "source": [
    "<br/><br/>\n",
    "#### Manually save weights\n",
    "\n",
    "You saw how to load the weights into a model. Another way to save the weights is manually saving them by using `Model.save_weights()`. By default, `save_weights` in TensorFlow saves checkpoints format with a .ckpt extension."
   ],
   "metadata": {}
  },
  {
   "cell_type": "code",
   "execution_count": 13,
   "source": [
    "# Save the weights\r\n",
    "model.save_weights('./checkpoints/manual_checkpoint/cur_weights')"
   ],
   "outputs": [],
   "metadata": {}
  },
  {
   "cell_type": "code",
   "execution_count": null,
   "source": [
    "!ls 'checkpoints/manual_checkpoint/'"
   ],
   "outputs": [],
   "metadata": {}
  },
  {
   "cell_type": "code",
   "execution_count": null,
   "source": [
    "# Create a new model instance\r\n",
    "model = create_model()\r\n",
    "\r\n",
    "# Restore the weights\r\n",
    "model.load_weights('./checkpoints/manual_checkpoint/cur_weights')\r\n",
    "\r\n",
    "# Evaluate the model\r\n",
    "loss,acc = model.evaluate(test_images, test_labels, verbose=0)\r\n",
    "print(\"Restored model, accuracy: {:5.2f}%\".format(100*acc))"
   ],
   "outputs": [],
   "metadata": {}
  },
  {
   "cell_type": "markdown",
   "source": [
    "<br/><br/>\n",
    "\n",
    "#### Save the entire model \n",
    "\n",
    "Not only weights, the entire model including optimizer and other settings can be saved to a single file. This allows us to export a model and use it without access to the original Python code for creating a model. Since the optimizer-state is recovered, we can resume training from exactly where we left off.\n",
    "\n",
    "We will save the entire model by using HDF5 file extension."
   ],
   "metadata": {}
  },
  {
   "cell_type": "markdown",
   "source": [
    "#### Save model as HDF5 file\n",
    "\n",
    "Keras provides a basic save format using the [HDF5](https://en.wikipedia.org/wiki/Hierarchical_Data_Format) standard."
   ],
   "metadata": {}
  },
  {
   "cell_type": "code",
   "execution_count": null,
   "source": [
    "# Create a new model instance\r\n",
    "model = create_model()\r\n",
    "\r\n",
    "# Train the model\r\n",
    "model.fit(train_images, train_labels, epochs=10)\r\n",
    "\r\n",
    "# Save the entire model to a HDF5 file\r\n",
    "save_dir = 'saved_models'\r\n",
    "if not os.path.exists(save_dir):\r\n",
    "    os.makedirs(save_dir)\r\n",
    "    \r\n",
    "model.save(os.path.join(save_dir, 'my_model.h5'))"
   ],
   "outputs": [],
   "metadata": {}
  },
  {
   "cell_type": "code",
   "execution_count": null,
   "source": [
    "!ls saved_models"
   ],
   "outputs": [],
   "metadata": {}
  },
  {
   "cell_type": "markdown",
   "source": [
    "<br/><br/>\n",
    "\n",
    "#### Restore the entire model\n",
    "\n",
    "Now, we will load the entire saved model by using `keras.models.load_model()`. We need a path for the saved model as a parameter."
   ],
   "metadata": {}
  },
  {
   "cell_type": "code",
   "execution_count": null,
   "source": [
    "# Recreate the exact same model, including its weights and the optimizer\r\n",
    "new_model = keras.models.load_model(os.path.join(save_dir, 'my_model.h5'))\r\n",
    "\r\n",
    "# Show the model architecture\r\n",
    "new_model.summary()"
   ],
   "outputs": [],
   "metadata": {}
  },
  {
   "cell_type": "markdown",
   "source": [
    "<br/><br/>\n",
    "\n",
    "By checking the model's accuracy, we can check whether it is loaded well or not."
   ],
   "metadata": {}
  },
  {
   "cell_type": "code",
   "execution_count": null,
   "source": [
    "loss, acc = new_model.evaluate(test_images, test_labels, verbose=0)\r\n",
    "print(\"Restored model, accuracy: {:5.2f}%\".format(100*acc))"
   ],
   "outputs": [],
   "metadata": {}
  },
  {
   "cell_type": "markdown",
   "source": [
    "<br/>\n",
    "\n",
    "This **save the entire model** technique saves following attributes:\n",
    "\n",
    "- The weight values\n",
    "- The model's configuration (architecture)\n",
    "- The optimizer configuration"
   ],
   "metadata": {}
  },
  {
   "cell_type": "code",
   "execution_count": null,
   "source": [
    "print(new_model.optimizer)\r\n",
    "print(new_model.loss)"
   ],
   "outputs": [],
   "metadata": {}
  }
 ],
 "metadata": {
  "kernelspec": {
   "display_name": "Python 3",
   "language": "python",
   "name": "python3"
  },
  "language_info": {
   "codemirror_mode": {
    "name": "ipython",
    "version": 3
   },
   "file_extension": ".py",
   "mimetype": "text/x-python",
   "name": "python",
   "nbconvert_exporter": "python",
   "pygments_lexer": "ipython3",
   "version": "3.8.3"
  }
 },
 "nbformat": 4,
 "nbformat_minor": 4
}